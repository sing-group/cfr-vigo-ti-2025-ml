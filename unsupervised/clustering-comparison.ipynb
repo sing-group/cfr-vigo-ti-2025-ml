{
 "cells": [
  {
   "cell_type": "markdown",
   "metadata": {},
   "source": [
    "# Comparación de distintos criterios de enlace en Hierarchical Clustering y K-Means\n",
    "\n",
    "De modo similar a este ejemplo de `sklearn` (https://scikit-learn.org/stable/auto_examples/cluster/plot_cluster_comparison.html), este notebook compara los resultados obtenidos al emplear distintos criterios de enlace en Hierarchical Clustering y K-Means en varios conjuntos de datos de prueba.\n",
    "\n",
    "Comenzamos importando las librerías necesarias y definiendo una semilla para que los resultados sean reproducibles."
   ]
  },
  {
   "cell_type": "code",
   "execution_count": 1,
   "metadata": {},
   "outputs": [],
   "source": [
    "import numpy as np\n",
    "import matplotlib.pyplot as plt\n",
    "\n",
    "from sklearn import cluster, datasets, mixture\n",
    "from sklearn.neighbors import kneighbors_graph\n",
    "from sklearn.preprocessing import StandardScaler\n",
    "from itertools import cycle, islice\n",
    "from scipy.cluster.hierarchy import dendrogram, linkage\n",
    "from sklearn.cluster import KMeans\n",
    "from scipy.cluster.hierarchy import fcluster\n",
    "\n",
    "np.random.seed(0)\n",
    "\n",
    "random_state = 170"
   ]
  },
  {
   "cell_type": "markdown",
   "metadata": {},
   "source": [
    "Definimos una función que recibe un dataset y el número de clusters a identificar y que se encarga de ejecutar los hierarchical clustering con distintos criterios de enlace y K-Means, haciendo un gráfico para representar visualmente cada agrupamiento."
   ]
  },
  {
   "cell_type": "code",
   "execution_count": 2,
   "metadata": {},
   "outputs": [],
   "source": [
    "def compareClusterMethods(dataset, k):\n",
    "    \n",
    "    X, y = dataset\n",
    "\n",
    "    X = StandardScaler().fit_transform(X)\n",
    "\n",
    "    # Hierarchical clustering: single-linkage\n",
    "\n",
    "    linked_single = linkage(X, 'single')\n",
    "\n",
    "    clusters_single = fcluster(linked_single, k, criterion = 'maxclust')\n",
    "\n",
    "    # Hierarchical clustering: complete-linkage\n",
    "\n",
    "    linked_complete = linkage(X, 'complete')\n",
    "\n",
    "    clusters_complete = fcluster(linked_complete, k, criterion = 'maxclust')\n",
    "\n",
    "    # Hierarchical clustering: average-linkage (UPGMA)\n",
    "\n",
    "    linked_average = linkage(X, 'average')\n",
    "\n",
    "    clusters_average = fcluster(linked_average, k, criterion = 'maxclust')\n",
    "\n",
    "    # Hierarchical clustering: centroid-linkage (UPGMA)\n",
    "\n",
    "    linked_centroid = linkage(X, 'centroid')\n",
    "\n",
    "    clusters_centroid = fcluster(linked_centroid, k, criterion = 'maxclust')\n",
    "\n",
    "    # Hierarchical clustering: ward's criterion\n",
    "\n",
    "    linked_ward = linkage(X, 'ward')\n",
    "\n",
    "    clusters_ward = fcluster(linked_ward, k, criterion = 'maxclust')\n",
    "\n",
    "    # K-Means\n",
    "\n",
    "    kmeans = KMeans(n_clusters=k).fit(X)\n",
    "\n",
    "    clusters_kmeans = kmeans.predict(X)\n",
    "\n",
    "\n",
    "    fig, axs = plt.subplots(2, 3, figsize=(13,9))\n",
    "    fig.tight_layout(pad=3.0)\n",
    "    axs[0, 0].scatter(X[:, 0], X[:, 1], s=10, c=clusters_single, cmap='viridis')\n",
    "    axs[0, 0].set_title('Minimum-linkage')\n",
    "    axs[0, 1].scatter(X[:, 0], X[:, 1], s=10, c=clusters_complete, cmap='viridis')\n",
    "    axs[0, 1].set_title('Complete-linkage')\n",
    "    axs[0, 2].scatter(X[:, 0], X[:, 1], s=10, c=clusters_average, cmap='viridis')\n",
    "    axs[0, 2].set_title('Average')\n",
    "    axs[1, 0].scatter(X[:, 0], X[:, 1], s=10, c=clusters_centroid, cmap='viridis')\n",
    "    axs[1, 0].set_title('Centroid')\n",
    "    axs[1, 1].scatter(X[:, 0], X[:, 1], s=10, c=clusters_ward, cmap='viridis')\n",
    "    axs[1, 1].set_title('Ward')\n",
    "    axs[1, 2].scatter(X[:, 0], X[:, 1], s=10, c=clusters_kmeans, cmap='viridis')\n",
    "    axs[1, 2].set_title('K-Means')"
   ]
  },
  {
   "cell_type": "markdown",
   "metadata": {},
   "source": [
    "Y ahora utilizamos esta función para analizar distintos datasets \"de juguete\" con formas particulares."
   ]
  },
  {
   "cell_type": "code",
   "execution_count": null,
   "metadata": {},
   "outputs": [],
   "source": [
    "n_samples = 1500\n",
    "noisy_circles = datasets.make_circles(n_samples=n_samples, factor=.5, noise=.05)\n",
    "compareClusterMethods(noisy_circles, 2)"
   ]
  },
  {
   "cell_type": "code",
   "execution_count": null,
   "metadata": {},
   "outputs": [],
   "source": [
    "n_samples = 1500\n",
    "noisy_moons = datasets.make_moons(n_samples=n_samples, noise=.05)\n",
    "compareClusterMethods(noisy_moons, 2)"
   ]
  },
  {
   "cell_type": "code",
   "execution_count": null,
   "metadata": {},
   "outputs": [],
   "source": [
    "n_samples=1500\n",
    "blobs = datasets.make_blobs(n_samples=n_samples, random_state=random_state)\n",
    "compareClusterMethods(blobs, 3)"
   ]
  },
  {
   "cell_type": "code",
   "execution_count": null,
   "metadata": {},
   "outputs": [],
   "source": [
    "# blobs with varied variances\n",
    "\n",
    "varied = datasets.make_blobs(n_samples=n_samples, cluster_std=[1.0, 2.5, 0.5], random_state=random_state)\n",
    "compareClusterMethods(varied, 3)"
   ]
  },
  {
   "cell_type": "code",
   "execution_count": null,
   "metadata": {},
   "outputs": [],
   "source": [
    "# Anisotropicly distributed data\n",
    "\n",
    "random_state = 170\n",
    "X, y = datasets.make_blobs(n_samples=n_samples, random_state=random_state)\n",
    "transformation = [[0.6, -0.6], [-0.4, 0.8]]\n",
    "X_aniso = np.dot(X, transformation)\n",
    "aniso = (X_aniso, y)\n",
    "\n",
    "compareClusterMethods(aniso, 3)"
   ]
  },
  {
   "cell_type": "code",
   "execution_count": null,
   "metadata": {},
   "outputs": [],
   "source": [
    "n_samples=1500\n",
    "no_structure = np.random.rand(n_samples, 2), None\n",
    "\n",
    "compareClusterMethods(no_structure, 3)"
   ]
  }
 ],
 "metadata": {
  "kernelspec": {
   "display_name": "machine-learning-cfr",
   "language": "python",
   "name": "python3"
  },
  "language_info": {
   "codemirror_mode": {
    "name": "ipython",
    "version": 3
   },
   "file_extension": ".py",
   "mimetype": "text/x-python",
   "name": "python",
   "nbconvert_exporter": "python",
   "pygments_lexer": "ipython3",
   "version": "3.11.10"
  }
 },
 "nbformat": 4,
 "nbformat_minor": 2
}
