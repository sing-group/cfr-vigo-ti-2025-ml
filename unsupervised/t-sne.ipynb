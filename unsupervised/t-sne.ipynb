{
 "cells": [
  {
   "cell_type": "markdown",
   "metadata": {},
   "source": [
    "# t-SNE utilizando `sklearn`\n",
    "\n",
    "Este notebook muestra como aplicar t-SNE a un DataFrame con dos dimensiones para proyectarlo sobre una dimensión, utilizando para ello la librería `sklearn` (https://scikit-learn.org/stable/modules/generated/sklearn.manifold.TSNE.html). Comenzamos definiendo el DataFrame de entrada y representándolo gráficamente."
   ]
  },
  {
   "cell_type": "code",
   "execution_count": null,
   "metadata": {},
   "outputs": [],
   "source": [
    "import pandas as pd\n",
    "import matplotlib.pyplot as plt\n",
    "import matplotlib\n",
    "\n",
    "df = pd.DataFrame({\n",
    "    'x': [1, 2, 3, 7, 8, 9, 2, 3, 4],\n",
    "    'y': [2, 1, 2, 8, 9, 7, 6, 5, 7]\n",
    "})\n",
    "\n",
    "df = df*10\n",
    "\n",
    "labels = [0, 0, 0, 1, 1, 1, 2, 2, 2]\n",
    "\n",
    "df.plot.scatter(x = 'x', y = 'y', c=labels, cmap='viridis')"
   ]
  },
  {
   "cell_type": "markdown",
   "metadata": {},
   "source": [
    "Ahora, importamos la librería y definimos la función TSNE que se encargará de obtener la representación del dataset de entrada. Utilizamos los parámetros:\n",
    "- `n_components=1`: para indicar que queremos proyectar la matriz de entrada en 1 componente.\n",
    "- `perplexity`: para indicar que se espera que cada punto tenga 2 vecinos cercanos.\n",
    "- `random_state`: para garantizar que el resultado es reproducible."
   ]
  },
  {
   "cell_type": "code",
   "execution_count": 2,
   "metadata": {},
   "outputs": [],
   "source": [
    "from sklearn.manifold import TSNE\n",
    "\n",
    "tsne = TSNE(n_components=1, perplexity = 2, random_state = 1)"
   ]
  },
  {
   "cell_type": "markdown",
   "metadata": {},
   "source": [
    "Finalmente, aplicamos la función al DataFrame de entrada y obtenemos los nuevos puntos, que representamos gráficamente en 1D."
   ]
  },
  {
   "cell_type": "code",
   "execution_count": null,
   "metadata": {},
   "outputs": [],
   "source": [
    "points = tsne.fit_transform(df)\n",
    "\n",
    "plt.scatter(x = points[:,0], y = [1, 1, 1, 1, 1, 1, 1, 1, 1], c=labels, cmap='viridis')"
   ]
  }
 ],
 "metadata": {
  "kernelspec": {
   "display_name": "machine-learning-cfr",
   "language": "python",
   "name": "python3"
  },
  "language_info": {
   "codemirror_mode": {
    "name": "ipython",
    "version": 3
   },
   "file_extension": ".py",
   "mimetype": "text/x-python",
   "name": "python",
   "nbconvert_exporter": "python",
   "pygments_lexer": "ipython3",
   "version": "3.11.10"
  }
 },
 "nbformat": 4,
 "nbformat_minor": 2
}
